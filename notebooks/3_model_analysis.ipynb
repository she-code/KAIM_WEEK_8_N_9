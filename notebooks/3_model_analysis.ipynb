{
 "cells": [
  {
   "cell_type": "code",
   "execution_count": 1,
   "id": "4c3b766d",
   "metadata": {},
   "outputs": [],
   "source": [
    "\n",
    "import pandas as pd\n",
    "import numpy as np\n",
    "from sklearn.model_selection import train_test_split\n",
    "import shap\n",
    "import matplotlib.pyplot as plt\n",
    "import joblib\n",
    "import os\n",
    "import matplotlib.pyplot as plt\n",
    "from sklearn.model_selection import train_test_split\n",
    "import sys\n",
    "sys.path.append('../src')\n",
    "from utils.data_loader import load_data"
   ]
  },
  {
   "cell_type": "code",
   "execution_count": 2,
   "id": "d4e8ff4b",
   "metadata": {},
   "outputs": [
    {
     "name": "stdout",
     "output_type": "stream",
     "text": [
      "Data loaded successfully from ../data/processed/fraud_data_processed.csv\n",
      "Data loaded successfully from ../data/processed/creditcard_processed.csv\n"
     ]
    }
   ],
   "source": [
    "# Load the preprocessed datasets\n",
    "fraud_data = load_data('../data/processed/fraud_data_processed.csv')\n",
    "creditcard_data = load_data('../data/processed/creditcard_processed.csv')\n"
   ]
  },
  {
   "cell_type": "code",
   "execution_count": 3,
   "id": "8b442042",
   "metadata": {},
   "outputs": [],
   "source": [
    "fraud_rf_model = joblib.load('../models/fraud_data_rf_model.pkl')\n",
    "creditcard_rf_model = joblib.load('../models/creditcard_rf_model.pkl')"
   ]
  },
  {
   "cell_type": "code",
   "execution_count": 4,
   "id": "38c90ae6",
   "metadata": {},
   "outputs": [],
   "source": [
    "\n",
    "# Preprocess function from Task 2\n",
    "def preprocess_data(df, target_col):\n",
    "    \"\"\"Preprocess data to ensure all features are numeric\"\"\"\n",
    "    df = df.copy()\n",
    "    \n",
    "    for col in df.select_dtypes(include=['datetime64', 'object']).columns:\n",
    "        if col != target_col:\n",
    "            if 'time' in col.lower():\n",
    "                df[col] = pd.to_datetime(df[col])\n",
    "                df[f'{col}_hour'] = df[col].dt.hour\n",
    "                df[f'{col}_day'] = df[col].dt.dayofweek\n",
    "                df[f'{col}_month'] = df[col].dt.month\n",
    "                df = df.drop(columns=[col])\n",
    "            else:\n",
    "                from sklearn.preprocessing import LabelEncoder\n",
    "                le = LabelEncoder()\n",
    "                df[col] = le.fit_transform(df[col].astype(str))\n",
    "    \n",
    "    return df\n"
   ]
  },
  {
   "cell_type": "code",
   "execution_count": 5,
   "id": "88fe773e",
   "metadata": {},
   "outputs": [],
   "source": [
    "\n",
    "# Prepare data function from Task 2\n",
    "def prepare_data(df, target_col):\n",
    "    \"\"\"Prepare features and target, perform train-test split\"\"\"\n",
    "    df = preprocess_data(df, target_col)\n",
    "    X = df.drop(columns=[target_col])\n",
    "    y = df[target_col]\n",
    "    X = X.select_dtypes(include=[np.number])\n",
    "    return train_test_split(X, y, test_size=0.2, random_state=42, stratify=y)\n"
   ]
  },
  {
   "cell_type": "code",
   "execution_count": 6,
   "id": "b1b8e745",
   "metadata": {},
   "outputs": [],
   "source": [
    "\n",
    "def generate_shap_plots(model, X_test, dataset_name):\n",
    "    \"\"\"Generate SHAP Summary and Force Plots\"\"\"\n",
    "    print(f\"Computing SHAP values for {dataset_name}...\")\n",
    "    \n",
    "    # Use TreeExplainer for Random Forest\n",
    "    explainer = shap.TreeExplainer(model)\n",
    "    \n",
    "    # Compute SHAP values for sampled test set\n",
    "    shap_values = explainer.shap_values(X_test)\n",
    "    \n",
    "    # Save SHAP values to avoid recomputation\n",
    "    os.makedirs('../shap_values', exist_ok=True)\n",
    "    joblib.dump(shap_values, f'../shap_values/shap_values_{dataset_name.lower()}.pkl')\n",
    "    print(f\"SHAP values for {dataset_name} saved.\")\n",
    "    \n",
    "    # Summary Plot (global feature importance)\n",
    "    print(f\"Generating Summary Plot for {dataset_name}...\")\n",
    "    plt.figure()\n",
    "    shap.summary_plot(shap_values[1], X_test, show=False)\n",
    "    plt.title(f'SHAP Summary Plot - {dataset_name}')\n",
    "    plt.tight_layout()\n",
    "    os.makedirs('../plots', exist_ok=True)\n",
    "    plt.savefig(f'../plots/shap_summary_{dataset_name.lower()}.png')\n",
    "    plt.close()\n",
    "    print(f\"Summary Plot for {dataset_name} saved.\")\n",
    "    \n",
    "    # Force Plot for first instance (local feature importance)\n",
    "    print(f\"Generating Force Plot for {dataset_name}...\")\n",
    "    plt.figure()\n",
    "    shap.force_plot(explainer.expected_value[1], shap_values[1][0], X_test.iloc[0], matplotlib=True, show=False)\n",
    "    plt.title(f'SHAP Force Plot - First Instance ({dataset_name})')\n",
    "    plt.tight_layout()\n",
    "    plt.savefig(f'../plots/shap_force_{dataset_name.lower()}.png')\n",
    "    plt.close()\n",
    "    print(f\"Force Plot for {dataset_name} saved.\")\n"
   ]
  },
  {
   "cell_type": "code",
   "execution_count": 7,
   "id": "fe3d56b9",
   "metadata": {},
   "outputs": [],
   "source": [
    "# Main analysis function\n",
    "def analyze_model_explainability():\n",
    "    print(\"Starting SHAP analysis...\")\n",
    "    # Prepare data\n",
    "    X_train_fraud, X_test_fraud, y_train_fraud, y_test_fraud = prepare_data(fraud_data, 'class')\n",
    "    X_train_creditcard, X_test_creditcard, y_train_creditcard, y_test_creditcard = prepare_data(creditcard_data, 'Class')\n",
    "    \n",
    "    # Load saved Random Forest models\n",
    "    print(\"Loading models...\")\n",
    "    fraud_model = joblib.load('../models/fraud_data_rf_model.pkl')\n",
    "    creditcard_model = joblib.load('../models/creditcard_rf_model.pkl')\n",
    "    print(\"Models loaded.\")\n",
    "    \n",
    "    # Generate SHAP plots for both datasets\n",
    "    generate_shap_plots(fraud_model, X_test_fraud, 'Fraud_Data')\n",
    "    generate_shap_plots(creditcard_model, X_test_creditcard, 'creditcard')\n",
    "    print(\"SHAP analysis complete.\")\n"
   ]
  },
  {
   "cell_type": "code",
   "execution_count": null,
   "id": "a4f2aa83",
   "metadata": {},
   "outputs": [
    {
     "name": "stdout",
     "output_type": "stream",
     "text": [
      "Starting SHAP analysis...\n",
      "Loading models...\n",
      "Models loaded.\n",
      "Computing SHAP values for Fraud_Data...\n"
     ]
    }
   ],
   "source": [
    "# Run analysis\n",
    "analyze_model_explainability()"
   ]
  }
 ],
 "metadata": {
  "kernelspec": {
   "display_name": "venv",
   "language": "python",
   "name": "python3"
  },
  "language_info": {
   "codemirror_mode": {
    "name": "ipython",
    "version": 3
   },
   "file_extension": ".py",
   "mimetype": "text/x-python",
   "name": "python",
   "nbconvert_exporter": "python",
   "pygments_lexer": "ipython3",
   "version": "3.13.3"
  }
 },
 "nbformat": 4,
 "nbformat_minor": 5
}
