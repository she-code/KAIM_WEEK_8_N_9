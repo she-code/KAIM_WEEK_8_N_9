{
 "cells": [
  {
   "cell_type": "code",
   "execution_count": 1,
   "id": "4c3b766d",
   "metadata": {},
   "outputs": [],
   "source": [
    "\n",
    "import pandas as pd\n",
    "import numpy as np\n",
    "from sklearn.model_selection import train_test_split\n",
    "import shap\n",
    "import matplotlib.pyplot as plt\n",
    "import joblib\n",
    "import os\n",
    "import matplotlib.pyplot as plt\n",
    "from sklearn.model_selection import train_test_split\n",
    "import sys\n",
    "sys.path.append('../src')\n",
    "from utils.data_loader import load_data"
   ]
  },
  {
   "cell_type": "markdown",
   "id": "309058b9",
   "metadata": {},
   "source": [
    "Load Processed Datasets"
   ]
  },
  {
   "cell_type": "code",
   "execution_count": 2,
   "id": "d4e8ff4b",
   "metadata": {},
   "outputs": [
    {
     "name": "stdout",
     "output_type": "stream",
     "text": [
      "Data loaded successfully from ../data/processed/fraud_data_processed.csv\n",
      "Data loaded successfully from ../data/processed/creditcard_processed.csv\n"
     ]
    }
   ],
   "source": [
    "# Load the preprocessed datasets\n",
    "fraud_data = load_data('../data/processed/fraud_data_processed.csv')\n",
    "creditcard_data = load_data('../data/processed/creditcard_processed.csv')\n"
   ]
  },
  {
   "cell_type": "markdown",
   "id": "e3d0bd8f",
   "metadata": {},
   "source": [
    "Load Saved Best Model"
   ]
  },
  {
   "cell_type": "code",
   "execution_count": 3,
   "id": "8b442042",
   "metadata": {},
   "outputs": [],
   "source": [
    "fraud_rf_model = joblib.load('../models/fraud_data_rf_model.pkl')\n",
    "creditcard_rf_model = joblib.load('../models/creditcard_rf_model.pkl')"
   ]
  },
  {
   "cell_type": "markdown",
   "id": "70071503",
   "metadata": {},
   "source": [
    "Preprocess Data(just in case)"
   ]
  },
  {
   "cell_type": "code",
   "execution_count": 4,
   "id": "38c90ae6",
   "metadata": {},
   "outputs": [],
   "source": [
    "\n",
    "# Preprocess function from Task 2\n",
    "def preprocess_data(df, target_col):\n",
    "    \"\"\"Preprocess data to ensure all features are numeric\"\"\"\n",
    "    df = df.copy()\n",
    "    \n",
    "    for col in df.select_dtypes(include=['datetime64', 'object']).columns:\n",
    "        if col != target_col:\n",
    "            if 'time' in col.lower():\n",
    "                df[col] = pd.to_datetime(df[col])\n",
    "                df[f'{col}_hour'] = df[col].dt.hour\n",
    "                df[f'{col}_day'] = df[col].dt.dayofweek\n",
    "                df[f'{col}_month'] = df[col].dt.month\n",
    "                df = df.drop(columns=[col])\n",
    "            else:\n",
    "                from sklearn.preprocessing import LabelEncoder\n",
    "                le = LabelEncoder()\n",
    "                df[col] = le.fit_transform(df[col].astype(str))\n",
    "    \n",
    "    return df\n"
   ]
  },
  {
   "cell_type": "code",
   "execution_count": null,
   "id": "88fe773e",
   "metadata": {},
   "outputs": [],
   "source": [
    "\n",
    "# Prepare data function \n",
    "def prepare_data(df, target_col):\n",
    "    \"\"\"Prepare features and target, perform train-test split\"\"\"\n",
    "    df = preprocess_data(df, target_col)\n",
    "    X = df.drop(columns=[target_col])\n",
    "    y = df[target_col]\n",
    "    X = X.select_dtypes(include=[np.number])\n",
    "    return train_test_split(X, y, test_size=0.2, random_state=42, stratify=y)\n"
   ]
  },
  {
   "cell_type": "markdown",
   "id": "eb6c4cc9",
   "metadata": {},
   "source": [
    "Generate SHAP PLOTS"
   ]
  },
  {
   "cell_type": "code",
   "execution_count": null,
   "id": "b1b8e745",
   "metadata": {},
   "outputs": [],
   "source": [
    "\n",
    "def generate_shap_plots(model, X_test, dataset_name, max_samples=1000):\n",
    "    \"\"\"Generate SHAP Summary and Force plots that produce proper output\"\"\"\n",
    "    print(f\"\\nGenerating SHAP plots for {dataset_name}...\")\n",
    "    \n",
    "    # Subsample for SHAP calculations\n",
    "    if len(X_test) > max_samples:\n",
    "        X_test_subsample = X_test.sample(n=max_samples, random_state=42)\n",
    "    else:\n",
    "        X_test_subsample = X_test.copy()\n",
    "    \n",
    "    print(f\"Using {len(X_test_subsample)} samples for SHAP analysis\")\n",
    "    \n",
    "    # Initialize SHAP explainer\n",
    "    print(\"Initializing SHAP explainer...\")\n",
    "    explainer = shap.TreeExplainer(model)\n",
    "    \n",
    "    # Calculate SHAP values - using Explanation object\n",
    "    print(\"Calculating SHAP values...\")\n",
    "    try:\n",
    "        # Get SHAP values as Explanation object\n",
    "        shap_explanation = explainer(X_test_subsample)\n",
    "        \n",
    "        # Handle binary classification\n",
    "        if len(shap_explanation.shape) == 3 and shap_explanation.shape[-1] == 2:\n",
    "            print(\"Binary classification detected - using SHAP values for class 1\")\n",
    "            shap_values = shap_explanation[..., 1]\n",
    "            expected_value = explainer.expected_value[1]\n",
    "        else:\n",
    "            shap_values = shap_explanation.values\n",
    "            expected_value = explainer.expected_value\n",
    "        \n",
    "        print(f\"SHAP values shape: {shap_values.shape}\")\n",
    "    except Exception as e:\n",
    "        print(f\"Error calculating SHAP values: {e}\")\n",
    "        return\n",
    "    \n",
    "    # Create plots directory if it doesn't exist\n",
    "    os.makedirs('../plots', exist_ok=True)\n",
    "    \n",
    "    # Summary Plot (Bar)\n",
    "    print(\"Creating summary plot (bar)...\")\n",
    "    try:\n",
    "        plt.figure(figsize=(12, 8))\n",
    "        \n",
    "        # Create bar plot using the Explanation object\n",
    "        shap.plots.bar(\n",
    "            shap_explanation[..., 1] if len(shap_explanation.shape) == 3 else shap_explanation,\n",
    "            show=False\n",
    "        )\n",
    "        plt.title(f'SHAP Feature Importance - {dataset_name}')\n",
    "        plt.tight_layout()\n",
    "        plt.savefig(f'../plots/shap_summary_bar_{dataset_name}.png', bbox_inches='tight', dpi=300)\n",
    "        plt.close()\n",
    "        print(\"Summary bar plot saved successfully\")\n",
    "    except Exception as e:\n",
    "        print(f\"Error creating bar plot: {e}\")\n",
    "    \n",
    "    # Summary Plot (Beeswarm)\n",
    "    print(\"Creating summary plot (beeswarm)...\")\n",
    "    try:\n",
    "        plt.figure(figsize=(12, 8))\n",
    "        shap.plots.beeswarm(\n",
    "            shap_explanation[..., 1] if len(shap_explanation.shape) == 3 else shap_explanation,\n",
    "            show=False,\n",
    "            max_display=20\n",
    "        )\n",
    "        plt.title(f'SHAP Value Distribution - {dataset_name}')\n",
    "        plt.tight_layout()\n",
    "        plt.savefig(f'../plots/shap_summary_beeswarm_{dataset_name}.png', bbox_inches='tight', dpi=300)\n",
    "        plt.close()\n",
    "        print(\"Summary beeswarm plot saved successfully\")\n",
    "    except Exception as e:\n",
    "        print(f\"Error creating beeswarm plot: {e}\")\n",
    "    \n",
    "    # Force Plot\n",
    "    print(\"Creating force plot...\")\n",
    "    try:\n",
    "        plt.figure(figsize=(12, 4))\n",
    "        shap.plots.force(\n",
    "            expected_value,\n",
    "            shap_values[0],  # First instance\n",
    "            feature_names=X_test_subsample.columns,\n",
    "            matplotlib=True,\n",
    "            show=False\n",
    "        )\n",
    "        plt.title(f'SHAP Force Plot - First Instance ({dataset_name})')\n",
    "        plt.tight_layout()\n",
    "        plt.savefig(f'../plots/shap_force_{dataset_name}.png', bbox_inches='tight', dpi=300)\n",
    "        plt.close()\n",
    "        print(\"Force plot saved successfully\")\n",
    "    except Exception as e:\n",
    "        print(f\"Error creating force plot: {e}\")"
   ]
  },
  {
   "cell_type": "markdown",
   "id": "cdbb6342",
   "metadata": {},
   "source": [
    "Analyze Model Explainability"
   ]
  },
  {
   "cell_type": "code",
   "execution_count": null,
   "id": "fe3d56b9",
   "metadata": {},
   "outputs": [],
   "source": [
    "\n",
    "\n",
    "def analyze_model_explainability(max_samples=300):\n",
    "    print(\"Starting SHAP analysis...\")\n",
    "    # Prepare data\n",
    "    X_train_fraud, X_test_fraud, y_train_fraud, y_test_fraud = prepare_data(fraud_data, 'class')\n",
    "    X_train_creditcard, X_test_creditcard, y_train_creditcard, y_test_creditcard = prepare_data(creditcard_data, 'Class')\n",
    "    \n",
    "    # Load saved Random Forest models\n",
    "    print(\"Loading models...\")\n",
    "    fraud_model = joblib.load('../models/fraud_data_rf_model.pkl')\n",
    "    creditcard_model = joblib.load('../models/creditcard_rf_model.pkl')\n",
    "    print(\"Models loaded.\")\n",
    "    \n",
    "    # Generate SHAP plots for both datasets with sample limit\n",
    "    generate_shap_plots(fraud_model, X_test_fraud, 'Fraud_Data', max_samples)\n",
    "    generate_shap_plots(creditcard_model, X_test_creditcard, 'creditcard', max_samples)\n",
    "    print(\"SHAP analysis complete.\")"
   ]
  },
  {
   "cell_type": "code",
   "execution_count": 8,
   "id": "a4f2aa83",
   "metadata": {},
   "outputs": [
    {
     "name": "stdout",
     "output_type": "stream",
     "text": [
      "Starting SHAP analysis...\n",
      "Loading models...\n",
      "Models loaded.\n",
      "\n",
      "Generating SHAP plots for Fraud_Data...\n",
      "Using 300 samples for SHAP analysis\n",
      "Initializing SHAP explainer...\n",
      "Calculating SHAP values...\n",
      "Binary classification detected - using SHAP values for class 1\n",
      "SHAP values shape: (300, 25)\n",
      "Creating summary plot (bar)...\n",
      "Summary bar plot saved successfully\n",
      "Creating summary plot (beeswarm)...\n",
      "Summary beeswarm plot saved successfully\n",
      "Creating force plot...\n",
      "Error creating force plot: visualize() can only display Explanation objects (or arrays of them)!\n",
      "\n",
      "Generating SHAP plots for creditcard...\n",
      "Using 300 samples for SHAP analysis\n",
      "Initializing SHAP explainer...\n",
      "Calculating SHAP values...\n",
      "Binary classification detected - using SHAP values for class 1\n",
      "SHAP values shape: (300, 32)\n",
      "Creating summary plot (bar)...\n",
      "Summary bar plot saved successfully\n",
      "Creating summary plot (beeswarm)...\n",
      "Summary beeswarm plot saved successfully\n",
      "Creating force plot...\n",
      "Error creating force plot: visualize() can only display Explanation objects (or arrays of them)!\n",
      "SHAP analysis complete.\n"
     ]
    },
    {
     "data": {
      "text/plain": [
       "<Figure size 1200x400 with 0 Axes>"
      ]
     },
     "metadata": {},
     "output_type": "display_data"
    },
    {
     "data": {
      "text/plain": [
       "<Figure size 1200x400 with 0 Axes>"
      ]
     },
     "metadata": {},
     "output_type": "display_data"
    }
   ],
   "source": [
    "# Run analysis\n",
    "analyze_model_explainability()"
   ]
  }
 ],
 "metadata": {
  "kernelspec": {
   "display_name": "venv",
   "language": "python",
   "name": "python3"
  },
  "language_info": {
   "codemirror_mode": {
    "name": "ipython",
    "version": 3
   },
   "file_extension": ".py",
   "mimetype": "text/x-python",
   "name": "python",
   "nbconvert_exporter": "python",
   "pygments_lexer": "ipython3",
   "version": "3.13.3"
  }
 },
 "nbformat": 4,
 "nbformat_minor": 5
}
