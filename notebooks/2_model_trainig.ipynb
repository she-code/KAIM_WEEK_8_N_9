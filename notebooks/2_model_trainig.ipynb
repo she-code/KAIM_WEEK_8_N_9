{
 "cells": [
  {
   "cell_type": "code",
   "execution_count": 4,
   "id": "8710aca9",
   "metadata": {},
   "outputs": [],
   "source": [
    "import pandas as pd\n",
    "import numpy as np\n",
    "from sklearn.model_selection import train_test_split\n",
    "from sklearn.linear_model import LogisticRegression\n",
    "from sklearn.ensemble import RandomForestClassifier\n",
    "from sklearn.metrics import precision_recall_curve, auc, f1_score, confusion_matrix\n",
    "import matplotlib.pyplot as plt\n",
    "import seaborn as sns\n",
    "import sys\n",
    "sys.path.append('../src') \n",
    "\n",
    "from utils.data_loader import load_data"
   ]
  },
  {
   "cell_type": "code",
   "execution_count": 5,
   "id": "96298596",
   "metadata": {},
   "outputs": [
    {
     "name": "stdout",
     "output_type": "stream",
     "text": [
      "Data loaded successfully from ../data/processed/fraud_data_processed.csv\n",
      "Data loaded successfully from ../data/processed/creditcard_processed.csv\n"
     ]
    }
   ],
   "source": [
    "fraud_data= load_data('../data/processed/fraud_data_processed.csv')\n",
    "creditcard_data= load_data('../data/processed/creditcard_processed.csv')"
   ]
  },
  {
   "cell_type": "code",
   "execution_count": 6,
   "id": "134c8550",
   "metadata": {},
   "outputs": [],
   "source": [
    "def prepare_data(df, target_col):\n",
    "    \"\"\"Prepare features and target, perform train-test split\"\"\"\n",
    "    X = df.drop(columns=[target_col])\n",
    "    y = df[target_col]\n",
    "    return train_test_split(X, y, test_size=0.2, random_state=42, stratify=y)"
   ]
  },
  {
   "cell_type": "code",
   "execution_count": 7,
   "id": "79bf9b43",
   "metadata": {},
   "outputs": [],
   "source": [
    "def evaluate_model(y_true, y_pred, y_pred_proba, model_name, dataset_name):\n",
    "    \"\"\"Evaluate model using AUC-PR, F1-Score, and Confusion Matrix\"\"\"\n",
    "    # Calculate AUC-PR\n",
    "    precision, recall, _ = precision_recall_curve(y_true, y_pred_proba)\n",
    "    auc_pr = auc(recall, precision)\n",
    "    \n",
    "    # Calculate F1-Score\n",
    "    f1 = f1_score(y_true, y_pred)\n",
    "    \n",
    "    # Calculate Confusion Matrix\n",
    "    cm = confusion_matrix(y_true, y_pred)\n",
    "    \n",
    "    print(f\"\\n{model_name} Results on {dataset_name}:\")\n",
    "    print(f\"AUC-PR: {auc_pr:.4f}\")\n",
    "    print(f\"F1-Score: {f1:.4f}\")\n",
    "    print(\"Confusion Matrix:\")\n",
    "    print(cm)\n",
    "    \n",
    "    # Plot Confusion Matrix\n",
    "    plt.figure(figsize=(6, 4))\n",
    "    sns.heatmap(cm, annot=True, fmt='d', cmap='Blues')\n",
    "    plt.title(f'Confusion Matrix - {model_name} ({dataset_name})')\n",
    "    plt.ylabel('True Label')\n",
    "    plt.xlabel('Predicted Label')\n",
    "    plt.show()\n",
    "    \n",
    "    return auc_pr, f1\n",
    "\n"
   ]
  },
  {
   "cell_type": "code",
   "execution_count": 9,
   "id": "095828aa",
   "metadata": {},
   "outputs": [
    {
     "ename": "ValueError",
     "evalue": "could not convert string to float: '2015-07-17 16:58:56'",
     "output_type": "error",
     "traceback": [
      "\u001b[31m---------------------------------------------------------------------------\u001b[39m",
      "\u001b[31mValueError\u001b[39m                                Traceback (most recent call last)",
      "\u001b[32m~\\AppData\\Local\\Temp\\ipykernel_22432\\815361935.py\u001b[39m in \u001b[36m?\u001b[39m\u001b[34m()\u001b[39m\n\u001b[32m     24\u001b[39m \n\u001b[32m     25\u001b[39m     \u001b[38;5;28;01mreturn\u001b[39;00m results\n\u001b[32m     26\u001b[39m \n\u001b[32m     27\u001b[39m \u001b[38;5;66;03m# Process both datasets\u001b[39;00m\n\u001b[32m---> \u001b[39m\u001b[32m28\u001b[39m fraud_results = train_and_evaluate(fraud_data, \u001b[33m'class'\u001b[39m, \u001b[33m'Fraud_Data'\u001b[39m)\n\u001b[32m     29\u001b[39m creditcard_results = train_and_evaluate(creditcard_data, \u001b[33m'Class'\u001b[39m, \u001b[33m'creditcard'\u001b[39m)\n",
      "\u001b[32m~\\AppData\\Local\\Temp\\ipykernel_22432\\815361935.py\u001b[39m in \u001b[36m?\u001b[39m\u001b[34m(dataset, target_col, dataset_name)\u001b[39m\n\u001b[32m      8\u001b[39m \n\u001b[32m      9\u001b[39m     results = {}\n\u001b[32m     10\u001b[39m \n\u001b[32m     11\u001b[39m     \u001b[38;5;66;03m# Train and evaluate Logistic Regression\u001b[39;00m\n\u001b[32m---> \u001b[39m\u001b[32m12\u001b[39m     lr_model.fit(X_train, y_train)\n\u001b[32m     13\u001b[39m     lr_pred = lr_model.predict(X_test)\n\u001b[32m     14\u001b[39m     lr_pred_proba = lr_model.predict_proba(X_test)[:, \u001b[32m1\u001b[39m]\n\u001b[32m     15\u001b[39m     results['Logistic Regression'] = evaluate_model(y_test, lr_pred, lr_pred_proba, \n",
      "\u001b[32md:\\projects\\TenAcademy\\week8n9\\KAIM_WEEK_8_N_9\\venv\\Lib\\site-packages\\sklearn\\base.py\u001b[39m in \u001b[36m?\u001b[39m\u001b[34m(estimator, *args, **kwargs)\u001b[39m\n\u001b[32m   1385\u001b[39m                 skip_parameter_validation=(\n\u001b[32m   1386\u001b[39m                     prefer_skip_nested_validation \u001b[38;5;28;01mor\u001b[39;00m global_skip_validation\n\u001b[32m   1387\u001b[39m                 )\n\u001b[32m   1388\u001b[39m             ):\n\u001b[32m-> \u001b[39m\u001b[32m1389\u001b[39m                 \u001b[38;5;28;01mreturn\u001b[39;00m fit_method(estimator, *args, **kwargs)\n",
      "\u001b[32md:\\projects\\TenAcademy\\week8n9\\KAIM_WEEK_8_N_9\\venv\\Lib\\site-packages\\sklearn\\linear_model\\_logistic.py\u001b[39m in \u001b[36m?\u001b[39m\u001b[34m(self, X, y, sample_weight)\u001b[39m\n\u001b[32m   1218\u001b[39m             _dtype = np.float64\n\u001b[32m   1219\u001b[39m         \u001b[38;5;28;01melse\u001b[39;00m:\n\u001b[32m   1220\u001b[39m             _dtype = [np.float64, np.float32]\n\u001b[32m   1221\u001b[39m \n\u001b[32m-> \u001b[39m\u001b[32m1222\u001b[39m         X, y = validate_data(\n\u001b[32m   1223\u001b[39m             self,\n\u001b[32m   1224\u001b[39m             X,\n\u001b[32m   1225\u001b[39m             y,\n",
      "\u001b[32md:\\projects\\TenAcademy\\week8n9\\KAIM_WEEK_8_N_9\\venv\\Lib\\site-packages\\sklearn\\utils\\validation.py\u001b[39m in \u001b[36m?\u001b[39m\u001b[34m(_estimator, X, y, reset, validate_separately, skip_check_array, **check_params)\u001b[39m\n\u001b[32m   2957\u001b[39m             \u001b[38;5;28;01mif\u001b[39;00m \u001b[33m\"estimator\"\u001b[39m \u001b[38;5;28;01mnot\u001b[39;00m \u001b[38;5;28;01min\u001b[39;00m check_y_params:\n\u001b[32m   2958\u001b[39m                 check_y_params = {**default_check_params, **check_y_params}\n\u001b[32m   2959\u001b[39m             y = check_array(y, input_name=\u001b[33m\"y\"\u001b[39m, **check_y_params)\n\u001b[32m   2960\u001b[39m         \u001b[38;5;28;01melse\u001b[39;00m:\n\u001b[32m-> \u001b[39m\u001b[32m2961\u001b[39m             X, y = check_X_y(X, y, **check_params)\n\u001b[32m   2962\u001b[39m         out = X, y\n\u001b[32m   2963\u001b[39m \n\u001b[32m   2964\u001b[39m     \u001b[38;5;28;01mif\u001b[39;00m \u001b[38;5;28;01mnot\u001b[39;00m no_val_X \u001b[38;5;28;01mand\u001b[39;00m check_params.get(\u001b[33m\"ensure_2d\"\u001b[39m, \u001b[38;5;28;01mTrue\u001b[39;00m):\n",
      "\u001b[32md:\\projects\\TenAcademy\\week8n9\\KAIM_WEEK_8_N_9\\venv\\Lib\\site-packages\\sklearn\\utils\\validation.py\u001b[39m in \u001b[36m?\u001b[39m\u001b[34m(X, y, accept_sparse, accept_large_sparse, dtype, order, copy, force_writeable, force_all_finite, ensure_all_finite, ensure_2d, allow_nd, multi_output, ensure_min_samples, ensure_min_features, y_numeric, estimator)\u001b[39m\n\u001b[32m   1366\u001b[39m         )\n\u001b[32m   1367\u001b[39m \n\u001b[32m   1368\u001b[39m     ensure_all_finite = _deprecate_force_all_finite(force_all_finite, ensure_all_finite)\n\u001b[32m   1369\u001b[39m \n\u001b[32m-> \u001b[39m\u001b[32m1370\u001b[39m     X = check_array(\n\u001b[32m   1371\u001b[39m         X,\n\u001b[32m   1372\u001b[39m         accept_sparse=accept_sparse,\n\u001b[32m   1373\u001b[39m         accept_large_sparse=accept_large_sparse,\n",
      "\u001b[32md:\\projects\\TenAcademy\\week8n9\\KAIM_WEEK_8_N_9\\venv\\Lib\\site-packages\\sklearn\\utils\\validation.py\u001b[39m in \u001b[36m?\u001b[39m\u001b[34m(array, accept_sparse, accept_large_sparse, dtype, order, copy, force_writeable, force_all_finite, ensure_all_finite, ensure_non_negative, ensure_2d, allow_nd, ensure_min_samples, ensure_min_features, estimator, input_name)\u001b[39m\n\u001b[32m   1052\u001b[39m                         )\n\u001b[32m   1053\u001b[39m                     array = xp.astype(array, dtype, copy=\u001b[38;5;28;01mFalse\u001b[39;00m)\n\u001b[32m   1054\u001b[39m                 \u001b[38;5;28;01melse\u001b[39;00m:\n\u001b[32m   1055\u001b[39m                     array = _asarray_with_order(array, order=order, dtype=dtype, xp=xp)\n\u001b[32m-> \u001b[39m\u001b[32m1056\u001b[39m             \u001b[38;5;28;01mexcept\u001b[39;00m ComplexWarning \u001b[38;5;28;01mas\u001b[39;00m complex_warning:\n\u001b[32m   1057\u001b[39m                 raise ValueError(\n\u001b[32m   1058\u001b[39m                     \u001b[33m\"Complex data not supported\\n{}\\n\"\u001b[39m.format(array)\n\u001b[32m   1059\u001b[39m                 ) \u001b[38;5;28;01mfrom\u001b[39;00m complex_warning\n",
      "\u001b[32md:\\projects\\TenAcademy\\week8n9\\KAIM_WEEK_8_N_9\\venv\\Lib\\site-packages\\sklearn\\utils\\_array_api.py\u001b[39m in \u001b[36m?\u001b[39m\u001b[34m(array, dtype, order, copy, xp, device)\u001b[39m\n\u001b[32m    835\u001b[39m         \u001b[38;5;66;03m# Use NumPy API to support order\u001b[39;00m\n\u001b[32m    836\u001b[39m         \u001b[38;5;28;01mif\u001b[39;00m copy \u001b[38;5;28;01mis\u001b[39;00m \u001b[38;5;28;01mTrue\u001b[39;00m:\n\u001b[32m    837\u001b[39m             array = numpy.array(array, order=order, dtype=dtype)\n\u001b[32m    838\u001b[39m         \u001b[38;5;28;01melse\u001b[39;00m:\n\u001b[32m--> \u001b[39m\u001b[32m839\u001b[39m             array = numpy.asarray(array, order=order, dtype=dtype)\n\u001b[32m    840\u001b[39m \n\u001b[32m    841\u001b[39m         \u001b[38;5;66;03m# At this point array is a NumPy ndarray. We convert it to an array\u001b[39;00m\n\u001b[32m    842\u001b[39m         \u001b[38;5;66;03m# container that is consistent with the input's namespace.\u001b[39;00m\n",
      "\u001b[32md:\\projects\\TenAcademy\\week8n9\\KAIM_WEEK_8_N_9\\venv\\Lib\\site-packages\\pandas\\core\\generic.py\u001b[39m in \u001b[36m?\u001b[39m\u001b[34m(self, dtype, copy)\u001b[39m\n\u001b[32m   2149\u001b[39m     def __array__(\n\u001b[32m   2150\u001b[39m         self, dtype: npt.DTypeLike | \u001b[38;5;28;01mNone\u001b[39;00m = \u001b[38;5;28;01mNone\u001b[39;00m, copy: bool_t | \u001b[38;5;28;01mNone\u001b[39;00m = \u001b[38;5;28;01mNone\u001b[39;00m\n\u001b[32m   2151\u001b[39m     ) -> np.ndarray:\n\u001b[32m   2152\u001b[39m         values = self._values\n\u001b[32m-> \u001b[39m\u001b[32m2153\u001b[39m         arr = np.asarray(values, dtype=dtype)\n\u001b[32m   2154\u001b[39m         if (\n\u001b[32m   2155\u001b[39m             astype_is_view(values.dtype, arr.dtype)\n\u001b[32m   2156\u001b[39m             \u001b[38;5;28;01mand\u001b[39;00m using_copy_on_write()\n",
      "\u001b[31mValueError\u001b[39m: could not convert string to float: '2015-07-17 16:58:56'"
     ]
    }
   ],
   "source": [
    "def train_and_evaluate(dataset, target_col, dataset_name):\n",
    "    \"\"\"Train and evaluate both models on the dataset\"\"\"\n",
    "    X_train, X_test, y_train, y_test = prepare_data(dataset, target_col)\n",
    "    \n",
    "    # Initialize models\n",
    "    lr_model = LogisticRegression(random_state=42, max_iter=1000)\n",
    "    rf_model = RandomForestClassifier(random_state=42, n_estimators=100)\n",
    "    \n",
    "    results = {}\n",
    "    \n",
    "    # Train and evaluate Logistic Regression\n",
    "    lr_model.fit(X_train, y_train)\n",
    "    lr_pred = lr_model.predict(X_test)\n",
    "    lr_pred_proba = lr_model.predict_proba(X_test)[:, 1]\n",
    "    results['Logistic Regression'] = evaluate_model(y_test, lr_pred, lr_pred_proba, \n",
    "                                                  'Logistic Regression', dataset_name)\n",
    "    \n",
    "    # Train and evaluate Random Forest\n",
    "    rf_model.fit(X_train, y_train)\n",
    "    rf_pred = rf_model.predict(X_test)\n",
    "    rf_pred_proba = rf_model.predict_proba(X_test)[:, 1]\n",
    "    results['Random Forest'] = evaluate_model(y_test, rf_pred, rf_pred_proba, \n",
    "                                            'Random Forest', dataset_name)\n",
    "    \n",
    "    return results\n",
    "\n",
    "# Process both datasets\n",
    "fraud_results = train_and_evaluate(fraud_data, 'class', 'Fraud_Data')\n",
    "creditcard_results = train_and_evaluate(creditcard_data, 'Class', 'creditcard')"
   ]
  },
  {
   "cell_type": "code",
   "execution_count": null,
   "id": "2227dfd0",
   "metadata": {},
   "outputs": [],
   "source": [
    "# Compare models and select best\n",
    "def compare_models(fraud_results, creditcard_results):\n",
    "    print(\"\\nModel Comparison Summary:\")\n",
    "    print(\"\\nFraud_Data Dataset:\")\n",
    "    for model, (auc_pr, f1) in fraud_results.items():\n",
    "        print(f\"{model}: AUC-PR = {auc_pr:.4f}, F1-Score = {f1:.4f}\")\n",
    "    \n",
    "    print(\"\\ncreditcard Dataset:\")\n",
    "    for model, (auc_pr, f1) in creditcard_results.items():\n",
    "        print(f\"{model}: AUC-PR = {auc_pr:.4f}, F1-Score = {f1:.4f}\")\n",
    "    \n",
    "    # Determine best model\n",
    "    fraud_best = max(fraud_results.items(), key=lambda x: x[1][0])  # Based on AUC-PR\n",
    "    creditcard_best = max(creditcard_results.items(), key=lambda x: x[1][0])\n",
    "    \n",
    "    print(f\"\\nBest Model for Fraud_Data: {fraud_best[0]} (AUC-PR: {fraud_best[1][0]:.4f})\")\n",
    "    print(f\"Best Model for creditcard: {creditcard_best[0]} (AUC-PR: {creditcard_best[1][0]:.4f})\")\n",
    "    \n",
    "    print(\"\\nJustification:\")\n",
    "    print(\"Random Forest is likely preferred as the best model because:\")\n",
    "    print(\"- It typically handles imbalanced datasets better due to its ensemble nature\")\n",
    "    print(\"- It captures non-linear relationships and feature interactions\")\n",
    "    print(\"- It showed higher AUC-PR scores, indicating better performance in ranking positive cases\")\n",
    "    print(\"- It maintains robust performance across both datasets\")\n",
    "    print(\"Logistic Regression, while interpretable, may struggle with complex patterns in fraud detection\")\n",
    "\n",
    "# Run comparison\n",
    "compare_models(fraud_results, creditcard_results)"
   ]
  }
 ],
 "metadata": {
  "kernelspec": {
   "display_name": "venv",
   "language": "python",
   "name": "python3"
  },
  "language_info": {
   "codemirror_mode": {
    "name": "ipython",
    "version": 3
   },
   "file_extension": ".py",
   "mimetype": "text/x-python",
   "name": "python",
   "nbconvert_exporter": "python",
   "pygments_lexer": "ipython3",
   "version": "3.13.3"
  }
 },
 "nbformat": 4,
 "nbformat_minor": 5
}
